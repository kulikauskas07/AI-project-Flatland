{
  "nbformat": 4,
  "nbformat_minor": 0,
  "metadata": {
    "colab": {
      "name": "cnn25.ipynb",
      "provenance": [],
      "collapsed_sections": []
    },
    "kernelspec": {
      "name": "python3",
      "display_name": "Python 3"
    },
    "language_info": {
      "name": "python"
    },
    "accelerator": "GPU"
  },
  "cells": [
    {
      "cell_type": "code",
      "source": [
        "import gzip\n",
        "import pickle\n",
        "from tensorflow import keras\n",
        "import numpy as np\n",
        "from tensorflow.keras.layers import Dense, Input, Flatten, Conv2D, BatchNormalization, \\\n",
        "                                    Activation, Dropout, MaxPooling2D\n",
        "\n",
        "def evaluate(path, model):\n",
        "    X, y = pickle.load(gzip.open(path, 'rb'))\n",
        "    y[y != 0] -= 2\n",
        "    X = X / 255.\n",
        "    acc = np.mean(model(X).numpy().argmax(axis=1) == y)\n",
        "    return acc\n"
      ],
      "metadata": {
        "id": "muYAhdmRtKrp"
      },
      "execution_count": 3,
      "outputs": []
    },
    {
      "cell_type": "code",
      "source": [
        "path = 'flatland_train.data'\n",
        "X,y = pickle.load(gzip.open(path,'rb')) \n",
        "\n",
        "# data pre-proc\n",
        "y[y != 0] -= 2\n",
        "X = X.reshape (X.shape[0],50,50,1) / 255."
      ],
      "metadata": {
        "id": "Zt_R_Vs8I-lL"
      },
      "execution_count": 4,
      "outputs": []
    },
    {
      "cell_type": "code",
      "source": [
        "from sklearn.model_selection import train_test_split\n",
        "\n",
        "X_train, X_test, y_train, y_test = train_test_split(X,y,test_size = 0.3,random_state = 42)"
      ],
      "metadata": {
        "id": "XW7G1rBFHFuC"
      },
      "execution_count": 5,
      "outputs": []
    },
    {
      "cell_type": "markdown",
      "source": [
        "DNN modelis"
      ],
      "metadata": {
        "id": "SWMvu0yAjvbl"
      }
    },
    {
      "cell_type": "code",
      "source": [
        "# model = keras.models.Sequential()\n",
        "# model.add(keras.layers.Flatten(input_shape=[50, 50]))\n",
        "# model.add(keras.layers.Dense(64, activation=\"relu\"))\n",
        "# model.add(keras.layers.Dense(32, activation=\"relu\"))\n",
        "# model.add(keras.layers.Dense(10, activation=\"softmax\"))\n",
        "# model.compile(loss=\"sparse_categorical_crossentropy\",\n",
        "#               optimizer=\"Adam\",\n",
        "#               metrics=[\"accuracy\"])\n",
        "# model.summary()"
      ],
      "metadata": {
        "id": "RQ6XZ_RJHb54"
      },
      "execution_count": 6,
      "outputs": []
    },
    {
      "cell_type": "code",
      "source": [
        ""
      ],
      "metadata": {
        "id": "29yiTr3cPPas"
      },
      "execution_count": 6,
      "outputs": []
    },
    {
      "cell_type": "markdown",
      "source": [
        "CNN modelis"
      ],
      "metadata": {
        "id": "oEZ6ShyAjy-W"
      }
    },
    {
      "cell_type": "code",
      "source": [
        "model = keras.models.Sequential()\n",
        "model.add(keras.layers.Conv2D(32, kernel_size=(3, 3), activation='relu', input_shape=[50, 50, 1]))\n",
        "model.add(keras.layers.BatchNormalization(axis=-1)) \n",
        "model.add(keras.layers.MaxPooling2D(pool_size=(2, 2),strides=2))\n",
        "model.add(keras.layers.Conv2D(64, kernel_size=(3, 3), activation='relu'))\n",
        "model.add(keras.layers.BatchNormalization(axis=-1)) \n",
        "model.add(keras.layers.MaxPooling2D(pool_size=(2, 2),strides=2))\n",
        "model.add(keras.layers.Conv2D(128, kernel_size=(3, 3), activation='relu'))\n",
        "model.add(keras.layers.BatchNormalization(axis=-1)) \n",
        "model.add(keras.layers.MaxPooling2D(pool_size=(2, 2),strides=2))\n",
        "model.add(keras.layers.Conv2D(256, kernel_size=(3, 3), activation='relu'))\n",
        "model.add(keras.layers.BatchNormalization(axis=-1)) \n",
        "model.add(keras.layers.MaxPooling2D(pool_size=(2, 2),strides=2))\n",
        "model.add(Flatten())\n",
        "model.add(Dropout(0.5))\n",
        "\n",
        "model.add(keras.layers.Dense(100, activation=\"relu\"))\n",
        "model.add(keras.layers.Dense(10, activation='softmax'))\n",
        "model.compile(loss=\"sparse_categorical_crossentropy\",\n",
        "              optimizer=\"Adam\",\n",
        "              metrics=[\"accuracy\"])\n",
        "model.summary()"
      ],
      "metadata": {
        "colab": {
          "base_uri": "https://localhost:8080/"
        },
        "id": "FVEFXgWLO8xN",
        "outputId": "4772f7ce-bd1f-4c9c-8b9f-95d9b8b9f2d7"
      },
      "execution_count": 13,
      "outputs": [
        {
          "output_type": "stream",
          "name": "stdout",
          "text": [
            "Model: \"sequential_1\"\n",
            "_________________________________________________________________\n",
            " Layer (type)                Output Shape              Param #   \n",
            "=================================================================\n",
            " conv2d_4 (Conv2D)           (None, 48, 48, 32)        320       \n",
            "                                                                 \n",
            " batch_normalization_4 (Batc  (None, 48, 48, 32)       128       \n",
            " hNormalization)                                                 \n",
            "                                                                 \n",
            " max_pooling2d_4 (MaxPooling  (None, 24, 24, 32)       0         \n",
            " 2D)                                                             \n",
            "                                                                 \n",
            " conv2d_5 (Conv2D)           (None, 22, 22, 64)        18496     \n",
            "                                                                 \n",
            " batch_normalization_5 (Batc  (None, 22, 22, 64)       256       \n",
            " hNormalization)                                                 \n",
            "                                                                 \n",
            " max_pooling2d_5 (MaxPooling  (None, 11, 11, 64)       0         \n",
            " 2D)                                                             \n",
            "                                                                 \n",
            " conv2d_6 (Conv2D)           (None, 9, 9, 128)         73856     \n",
            "                                                                 \n",
            " batch_normalization_6 (Batc  (None, 9, 9, 128)        512       \n",
            " hNormalization)                                                 \n",
            "                                                                 \n",
            " max_pooling2d_6 (MaxPooling  (None, 4, 4, 128)        0         \n",
            " 2D)                                                             \n",
            "                                                                 \n",
            " conv2d_7 (Conv2D)           (None, 2, 2, 256)         295168    \n",
            "                                                                 \n",
            " batch_normalization_7 (Batc  (None, 2, 2, 256)        1024      \n",
            " hNormalization)                                                 \n",
            "                                                                 \n",
            " max_pooling2d_7 (MaxPooling  (None, 1, 1, 256)        0         \n",
            " 2D)                                                             \n",
            "                                                                 \n",
            " flatten_1 (Flatten)         (None, 256)               0         \n",
            "                                                                 \n",
            " dropout (Dropout)           (None, 256)               0         \n",
            "                                                                 \n",
            " dense_2 (Dense)             (None, 100)               25700     \n",
            "                                                                 \n",
            " dense_3 (Dense)             (None, 10)                1010      \n",
            "                                                                 \n",
            "=================================================================\n",
            "Total params: 416,470\n",
            "Trainable params: 415,510\n",
            "Non-trainable params: 960\n",
            "_________________________________________________________________\n"
          ]
        }
      ]
    },
    {
      "cell_type": "code",
      "source": [
        "loss = model.fit(X_train, y_train, epochs=7,validation_data=[X_test,y_test])\n"
      ],
      "metadata": {
        "colab": {
          "base_uri": "https://localhost:8080/"
        },
        "id": "gR1uqmh2Ilgb",
        "outputId": "f456f4de-ee2b-442a-d057-00869969687b"
      },
      "execution_count": 14,
      "outputs": [
        {
          "output_type": "stream",
          "name": "stdout",
          "text": [
            "Epoch 1/7\n",
            "219/219 [==============================] - 5s 17ms/step - loss: 1.0494 - accuracy: 0.6061 - val_loss: 4.9932 - val_accuracy: 0.1520\n",
            "Epoch 2/7\n",
            "219/219 [==============================] - 3s 15ms/step - loss: 0.3671 - accuracy: 0.8881 - val_loss: 7.2125 - val_accuracy: 0.1520\n",
            "Epoch 3/7\n",
            "219/219 [==============================] - 3s 15ms/step - loss: 0.2371 - accuracy: 0.9413 - val_loss: 1.4278 - val_accuracy: 0.5143\n",
            "Epoch 4/7\n",
            "219/219 [==============================] - 3s 15ms/step - loss: 0.1873 - accuracy: 0.9589 - val_loss: 0.2193 - val_accuracy: 0.9560\n",
            "Epoch 5/7\n",
            "219/219 [==============================] - 3s 15ms/step - loss: 0.1509 - accuracy: 0.9697 - val_loss: 0.1938 - val_accuracy: 0.9677\n",
            "Epoch 6/7\n",
            "219/219 [==============================] - 3s 15ms/step - loss: 0.1302 - accuracy: 0.9703 - val_loss: 0.2129 - val_accuracy: 0.9597\n",
            "Epoch 7/7\n",
            "219/219 [==============================] - 3s 15ms/step - loss: 0.1221 - accuracy: 0.9741 - val_loss: 0.1723 - val_accuracy: 0.9810\n"
          ]
        }
      ]
    },
    {
      "cell_type": "code",
      "source": [
        "model.save('model_cnn25.h5')\n"
      ],
      "metadata": {
        "id": "wenXIOV3IyQr"
      },
      "execution_count": 15,
      "outputs": []
    },
    {
      "cell_type": "code",
      "source": [
        "model = keras.models.load_model('model_cnn25.h5')\n",
        "evaluate('flatland_train.data', model)"
      ],
      "metadata": {
        "colab": {
          "base_uri": "https://localhost:8080/"
        },
        "id": "ywNk7vp6I58Y",
        "outputId": "b99d5a9e-e30b-47a2-ce72-523e1fc1ddb0"
      },
      "execution_count": 16,
      "outputs": [
        {
          "output_type": "execute_result",
          "data": {
            "text/plain": [
              "0.9836"
            ]
          },
          "metadata": {},
          "execution_count": 16
        }
      ]
    },
    {
      "cell_type": "code",
      "source": [
        "pred = model.predict(X_test).argmax(axis=1)\n",
        "print('Accuracy on test set - {0:.02%}'.format((pred == y_test).mean()))"
      ],
      "metadata": {
        "colab": {
          "base_uri": "https://localhost:8080/"
        },
        "id": "zrXtp8soJRIi",
        "outputId": "7e629de1-2834-4429-bdfb-86717e098234"
      },
      "execution_count": 17,
      "outputs": [
        {
          "output_type": "stream",
          "name": "stdout",
          "text": [
            "Accuracy on test set - 98.10%\n"
          ]
        }
      ]
    },
    {
      "cell_type": "code",
      "source": [
        ""
      ],
      "metadata": {
        "id": "IFSfauKJvk3V"
      },
      "execution_count": null,
      "outputs": []
    }
  ]
}
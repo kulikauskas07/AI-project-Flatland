{
  "nbformat": 4,
  "nbformat_minor": 0,
  "metadata": {
    "colab": {
      "name": "cnn14.ipynb",
      "provenance": [],
      "collapsed_sections": []
    },
    "kernelspec": {
      "name": "python3",
      "display_name": "Python 3"
    },
    "language_info": {
      "name": "python"
    },
    "accelerator": "GPU"
  },
  "cells": [
    {
      "cell_type": "code",
      "source": [
        "import gzip\n",
        "import pickle\n",
        "from tensorflow import keras\n",
        "import numpy as np\n",
        "from tensorflow.keras.layers import Dense, Input, Flatten, Conv2D, BatchNormalization, \\\n",
        "                                    Activation, Dropout, MaxPooling2D\n",
        "\n",
        "def evaluate(path, model):\n",
        "    X, y = pickle.load(gzip.open(path, 'rb'))\n",
        "    y[y != 0] -= 2\n",
        "    X = X / 255.\n",
        "    acc = np.mean(model(X).numpy().argmax(axis=1) == y)\n",
        "    return acc\n"
      ],
      "metadata": {
        "id": "muYAhdmRtKrp"
      },
      "execution_count": 1,
      "outputs": []
    },
    {
      "cell_type": "code",
      "source": [
        "path = 'flatland_train.data'\n",
        "X,y = pickle.load(gzip.open(path,'rb')) \n",
        "\n",
        "# data pre-proc\n",
        "y[y != 0] -= 2\n",
        "X = X.reshape (X.shape[0],50,50,1) / 255."
      ],
      "metadata": {
        "id": "Zt_R_Vs8I-lL"
      },
      "execution_count": 2,
      "outputs": []
    },
    {
      "cell_type": "code",
      "source": [
        "from sklearn.model_selection import train_test_split\n",
        "\n",
        "X_train, X_test, y_train, y_test = train_test_split(X,y,test_size = 0.3,random_state = 42)"
      ],
      "metadata": {
        "id": "XW7G1rBFHFuC"
      },
      "execution_count": 3,
      "outputs": []
    },
    {
      "cell_type": "markdown",
      "source": [
        "DNN modelis"
      ],
      "metadata": {
        "id": "SWMvu0yAjvbl"
      }
    },
    {
      "cell_type": "code",
      "source": [
        "# model = keras.models.Sequential()\n",
        "# model.add(keras.layers.Flatten(input_shape=[50, 50]))\n",
        "# model.add(keras.layers.Dense(64, activation=\"relu\"))\n",
        "# model.add(keras.layers.Dense(32, activation=\"relu\"))\n",
        "# model.add(keras.layers.Dense(10, activation=\"softmax\"))\n",
        "# model.compile(loss=\"sparse_categorical_crossentropy\",\n",
        "#               optimizer=\"Adam\",\n",
        "#               metrics=[\"accuracy\"])\n",
        "# model.summary()"
      ],
      "metadata": {
        "id": "RQ6XZ_RJHb54"
      },
      "execution_count": 5,
      "outputs": []
    },
    {
      "cell_type": "code",
      "source": [
        ""
      ],
      "metadata": {
        "id": "29yiTr3cPPas"
      },
      "execution_count": 5,
      "outputs": []
    },
    {
      "cell_type": "markdown",
      "source": [
        "CNN modelis"
      ],
      "metadata": {
        "id": "oEZ6ShyAjy-W"
      }
    },
    {
      "cell_type": "code",
      "source": [
        "model = keras.models.Sequential()\n",
        "model.add(keras.layers.Conv2D(32, kernel_size=(3, 3), activation='relu', input_shape=[50, 50, 1]))\n",
        "model.add(keras.layers.BatchNormalization(axis=-1)) \n",
        "model.add(keras.layers.MaxPooling2D(pool_size=(2, 2),strides=2))\n",
        "model.add(keras.layers.Conv2D(64, kernel_size=(3, 3), activation='relu'))\n",
        "model.add(keras.layers.BatchNormalization(axis=-1)) \n",
        "model.add(keras.layers.MaxPooling2D(pool_size=(2, 2),strides=2))\n",
        "model.add(keras.layers.Conv2D(128, kernel_size=(3, 3), activation='relu'))\n",
        "model.add(keras.layers.BatchNormalization(axis=-1)) \n",
        "model.add(keras.layers.MaxPooling2D(pool_size=(2, 2),strides=2))\n",
        "\n",
        "\n",
        "model.add(Flatten())\n",
        "model.add(keras.layers.Dense(100, activation=\"relu\"))\n",
        "model.add(keras.layers.Dense(64, activation=\"relu\"))\n",
        "model.add(keras.layers.Dense(10, activation='softmax'))\n",
        "model.compile(loss=\"sparse_categorical_crossentropy\",\n",
        "              optimizer=\"Adam\",\n",
        "              metrics=[\"accuracy\"])\n",
        "model.summary()"
      ],
      "metadata": {
        "colab": {
          "base_uri": "https://localhost:8080/"
        },
        "id": "FVEFXgWLO8xN",
        "outputId": "3171c7ba-8a81-4d35-caaa-1966cde33a3a"
      },
      "execution_count": 4,
      "outputs": [
        {
          "output_type": "stream",
          "name": "stdout",
          "text": [
            "Model: \"sequential\"\n",
            "_________________________________________________________________\n",
            " Layer (type)                Output Shape              Param #   \n",
            "=================================================================\n",
            " conv2d (Conv2D)             (None, 48, 48, 32)        320       \n",
            "                                                                 \n",
            " batch_normalization (BatchN  (None, 48, 48, 32)       128       \n",
            " ormalization)                                                   \n",
            "                                                                 \n",
            " max_pooling2d (MaxPooling2D  (None, 24, 24, 32)       0         \n",
            " )                                                               \n",
            "                                                                 \n",
            " conv2d_1 (Conv2D)           (None, 22, 22, 64)        18496     \n",
            "                                                                 \n",
            " batch_normalization_1 (Batc  (None, 22, 22, 64)       256       \n",
            " hNormalization)                                                 \n",
            "                                                                 \n",
            " max_pooling2d_1 (MaxPooling  (None, 11, 11, 64)       0         \n",
            " 2D)                                                             \n",
            "                                                                 \n",
            " conv2d_2 (Conv2D)           (None, 9, 9, 128)         73856     \n",
            "                                                                 \n",
            " batch_normalization_2 (Batc  (None, 9, 9, 128)        512       \n",
            " hNormalization)                                                 \n",
            "                                                                 \n",
            " max_pooling2d_2 (MaxPooling  (None, 4, 4, 128)        0         \n",
            " 2D)                                                             \n",
            "                                                                 \n",
            " flatten (Flatten)           (None, 2048)              0         \n",
            "                                                                 \n",
            " dense (Dense)               (None, 100)               204900    \n",
            "                                                                 \n",
            " dense_1 (Dense)             (None, 64)                6464      \n",
            "                                                                 \n",
            " dense_2 (Dense)             (None, 10)                650       \n",
            "                                                                 \n",
            "=================================================================\n",
            "Total params: 305,582\n",
            "Trainable params: 305,134\n",
            "Non-trainable params: 448\n",
            "_________________________________________________________________\n"
          ]
        }
      ]
    },
    {
      "cell_type": "code",
      "source": [
        "loss = model.fit(X_train, y_train, epochs=10,validation_data=[X_test,y_test])\n"
      ],
      "metadata": {
        "colab": {
          "base_uri": "https://localhost:8080/"
        },
        "id": "gR1uqmh2Ilgb",
        "outputId": "49688a19-b9ca-4b44-883b-99968ee014b7"
      },
      "execution_count": 5,
      "outputs": [
        {
          "output_type": "stream",
          "name": "stdout",
          "text": [
            "Epoch 1/10\n",
            "219/219 [==============================] - 5s 15ms/step - loss: 0.9042 - accuracy: 0.6517 - val_loss: 9.9969 - val_accuracy: 0.1520\n",
            "Epoch 2/10\n",
            "219/219 [==============================] - 3s 14ms/step - loss: 0.3013 - accuracy: 0.9136 - val_loss: 6.3567 - val_accuracy: 0.1520\n",
            "Epoch 3/10\n",
            "219/219 [==============================] - 3s 14ms/step - loss: 0.1745 - accuracy: 0.9611 - val_loss: 0.7458 - val_accuracy: 0.7067\n",
            "Epoch 4/10\n",
            "219/219 [==============================] - 3s 14ms/step - loss: 0.1348 - accuracy: 0.9703 - val_loss: 0.1788 - val_accuracy: 0.9700\n",
            "Epoch 5/10\n",
            "219/219 [==============================] - 3s 13ms/step - loss: 0.0990 - accuracy: 0.9761 - val_loss: 0.2136 - val_accuracy: 0.9587\n",
            "Epoch 6/10\n",
            "219/219 [==============================] - 3s 13ms/step - loss: 0.0907 - accuracy: 0.9734 - val_loss: 0.2451 - val_accuracy: 0.9563\n",
            "Epoch 7/10\n",
            "219/219 [==============================] - 3s 13ms/step - loss: 0.0913 - accuracy: 0.9757 - val_loss: 0.2416 - val_accuracy: 0.9480\n",
            "Epoch 8/10\n",
            "219/219 [==============================] - 3s 14ms/step - loss: 0.0672 - accuracy: 0.9803 - val_loss: 0.2126 - val_accuracy: 0.9740\n",
            "Epoch 9/10\n",
            "219/219 [==============================] - 3s 14ms/step - loss: 0.0540 - accuracy: 0.9830 - val_loss: 0.2253 - val_accuracy: 0.9617\n",
            "Epoch 10/10\n",
            "219/219 [==============================] - 3s 13ms/step - loss: 0.0690 - accuracy: 0.9803 - val_loss: 0.2084 - val_accuracy: 0.9750\n"
          ]
        }
      ]
    },
    {
      "cell_type": "code",
      "source": [
        "model.save('model_cnn14.h5')\n"
      ],
      "metadata": {
        "id": "wenXIOV3IyQr"
      },
      "execution_count": 7,
      "outputs": []
    },
    {
      "cell_type": "code",
      "source": [
        "model = keras.models.load_model('model_cnn14.h5')\n",
        "evaluate('flatland_train.data', model)"
      ],
      "metadata": {
        "colab": {
          "base_uri": "https://localhost:8080/"
        },
        "id": "ywNk7vp6I58Y",
        "outputId": "11841861-2f04-4c87-9a48-ffd9dd4aba9d"
      },
      "execution_count": 8,
      "outputs": [
        {
          "output_type": "execute_result",
          "data": {
            "text/plain": [
              "0.9856"
            ]
          },
          "metadata": {},
          "execution_count": 8
        }
      ]
    },
    {
      "cell_type": "code",
      "source": [
        "pred = model.predict(X_test).argmax(axis=1)\n",
        "print('Accuracy on test set - {0:.02%}'.format((pred == y_test).mean()))"
      ],
      "metadata": {
        "colab": {
          "base_uri": "https://localhost:8080/"
        },
        "id": "zrXtp8soJRIi",
        "outputId": "86cd4721-4d66-4ad0-a784-c7fba34fb424"
      },
      "execution_count": 6,
      "outputs": [
        {
          "output_type": "stream",
          "name": "stdout",
          "text": [
            "Accuracy on test set - 97.50%\n"
          ]
        }
      ]
    },
    {
      "cell_type": "code",
      "source": [
        ""
      ],
      "metadata": {
        "id": "IFSfauKJvk3V"
      },
      "execution_count": 10,
      "outputs": []
    }
  ]
}
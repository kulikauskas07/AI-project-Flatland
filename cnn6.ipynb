{
  "nbformat": 4,
  "nbformat_minor": 0,
  "metadata": {
    "colab": {
      "name": "cnn6.ipynb",
      "provenance": []
    },
    "kernelspec": {
      "name": "python3",
      "display_name": "Python 3"
    },
    "language_info": {
      "name": "python"
    },
    "accelerator": "GPU"
  },
  "cells": [
    {
      "cell_type": "code",
      "source": [
        "import gzip\n",
        "import pickle\n",
        "from tensorflow import keras\n",
        "import numpy as np\n",
        "from tensorflow.keras.layers import Dense, Input, Flatten, Conv2D, BatchNormalization, \\\n",
        "                                    Activation, Dropout, MaxPooling2D\n",
        "\n",
        "def evaluate(path, model):\n",
        "    X, y = pickle.load(gzip.open(path, 'rb'))\n",
        "    y[y != 0] -= 2\n",
        "    X = X / 255.\n",
        "    acc = np.mean(model(X).numpy().argmax(axis=1) == y)\n",
        "    return acc\n"
      ],
      "metadata": {
        "id": "muYAhdmRtKrp"
      },
      "execution_count": 12,
      "outputs": []
    },
    {
      "cell_type": "code",
      "source": [
        "path = 'flatland_train.data'\n",
        "X,y = pickle.load(gzip.open(path,'rb')) \n",
        "\n",
        "# data pre-proc\n",
        "y[y != 0] -= 2\n",
        "X = X.reshape (X.shape[0],50,50,1) / 255."
      ],
      "metadata": {
        "id": "Zt_R_Vs8I-lL"
      },
      "execution_count": 13,
      "outputs": []
    },
    {
      "cell_type": "code",
      "source": [
        "from sklearn.model_selection import train_test_split\n",
        "\n",
        "X_train, X_test, y_train, y_test = train_test_split(X,y,test_size = 0.3,random_state = 42)"
      ],
      "metadata": {
        "id": "XW7G1rBFHFuC"
      },
      "execution_count": 14,
      "outputs": []
    },
    {
      "cell_type": "markdown",
      "source": [
        "DNN modelis"
      ],
      "metadata": {
        "id": "SWMvu0yAjvbl"
      }
    },
    {
      "cell_type": "code",
      "source": [
        "# model = keras.models.Sequential()\n",
        "# model.add(keras.layers.Flatten(input_shape=[50, 50]))\n",
        "# model.add(keras.layers.Dense(64, activation=\"relu\"))\n",
        "# model.add(keras.layers.Dense(32, activation=\"relu\"))\n",
        "# model.add(keras.layers.Dense(10, activation=\"softmax\"))\n",
        "# model.compile(loss=\"sparse_categorical_crossentropy\",\n",
        "#               optimizer=\"Adam\",\n",
        "#               metrics=[\"accuracy\"])\n",
        "# model.summary()"
      ],
      "metadata": {
        "id": "RQ6XZ_RJHb54"
      },
      "execution_count": 15,
      "outputs": []
    },
    {
      "cell_type": "code",
      "source": [
        ""
      ],
      "metadata": {
        "id": "29yiTr3cPPas"
      },
      "execution_count": 15,
      "outputs": []
    },
    {
      "cell_type": "markdown",
      "source": [
        "CNN modelis"
      ],
      "metadata": {
        "id": "oEZ6ShyAjy-W"
      }
    },
    {
      "cell_type": "code",
      "source": [
        "model = keras.models.Sequential()\n",
        "model.add(keras.layers.Conv2D(32, kernel_size=(3, 3), activation='relu', input_shape=[50, 50, 1]))\n",
        "model.add(keras.layers.BatchNormalization(axis=-1)) \n",
        "model.add(keras.layers.MaxPooling2D(pool_size=(2, 2)))\n",
        "model.add(keras.layers.Conv2D(32, kernel_size=(3, 3), activation='relu'))\n",
        "model.add(keras.layers.BatchNormalization(axis=-1)) \n",
        "model.add(keras.layers.MaxPooling2D(pool_size=(2, 2)))\n",
        "model.add(Flatten())\n",
        "model.add(keras.layers.Dense(100, activation=\"relu\"))\n",
        "model.add(keras.layers.Dense(10, activation='softmax'))\n",
        "model.compile(loss=\"sparse_categorical_crossentropy\",\n",
        "              optimizer=\"Adam\",\n",
        "              metrics=[\"accuracy\"])\n",
        "model.summary()"
      ],
      "metadata": {
        "colab": {
          "base_uri": "https://localhost:8080/"
        },
        "id": "FVEFXgWLO8xN",
        "outputId": "5ac21168-b85d-4680-fc2f-a8f0444efdd2"
      },
      "execution_count": 16,
      "outputs": [
        {
          "output_type": "stream",
          "name": "stdout",
          "text": [
            "Model: \"sequential_1\"\n",
            "_________________________________________________________________\n",
            " Layer (type)                Output Shape              Param #   \n",
            "=================================================================\n",
            " conv2d_2 (Conv2D)           (None, 48, 48, 32)        320       \n",
            "                                                                 \n",
            " batch_normalization_2 (Batc  (None, 48, 48, 32)       128       \n",
            " hNormalization)                                                 \n",
            "                                                                 \n",
            " max_pooling2d_2 (MaxPooling  (None, 24, 24, 32)       0         \n",
            " 2D)                                                             \n",
            "                                                                 \n",
            " conv2d_3 (Conv2D)           (None, 22, 22, 32)        9248      \n",
            "                                                                 \n",
            " batch_normalization_3 (Batc  (None, 22, 22, 32)       128       \n",
            " hNormalization)                                                 \n",
            "                                                                 \n",
            " max_pooling2d_3 (MaxPooling  (None, 11, 11, 32)       0         \n",
            " 2D)                                                             \n",
            "                                                                 \n",
            " flatten_1 (Flatten)         (None, 3872)              0         \n",
            "                                                                 \n",
            " dense_2 (Dense)             (None, 100)               387300    \n",
            "                                                                 \n",
            " dense_3 (Dense)             (None, 10)                1010      \n",
            "                                                                 \n",
            "=================================================================\n",
            "Total params: 398,134\n",
            "Trainable params: 398,006\n",
            "Non-trainable params: 128\n",
            "_________________________________________________________________\n"
          ]
        }
      ]
    },
    {
      "cell_type": "code",
      "source": [
        "loss = model.fit(X_train, y_train, epochs=20,validation_data=[X_test,y_test])\n"
      ],
      "metadata": {
        "colab": {
          "base_uri": "https://localhost:8080/"
        },
        "id": "gR1uqmh2Ilgb",
        "outputId": "5c0b4262-0d54-4d2c-9e68-d61d83651e9d"
      },
      "execution_count": 17,
      "outputs": [
        {
          "output_type": "stream",
          "name": "stdout",
          "text": [
            "Epoch 1/20\n",
            "219/219 [==============================] - 4s 13ms/step - loss: 1.1648 - accuracy: 0.5601 - val_loss: 10.6879 - val_accuracy: 0.1520\n",
            "Epoch 2/20\n",
            "219/219 [==============================] - 3s 12ms/step - loss: 0.4708 - accuracy: 0.8349 - val_loss: 9.8707 - val_accuracy: 0.1520\n",
            "Epoch 3/20\n",
            "219/219 [==============================] - 3s 12ms/step - loss: 0.2485 - accuracy: 0.9306 - val_loss: 0.8566 - val_accuracy: 0.6300\n",
            "Epoch 4/20\n",
            "219/219 [==============================] - 3s 12ms/step - loss: 0.1530 - accuracy: 0.9584 - val_loss: 0.4294 - val_accuracy: 0.8500\n",
            "Epoch 5/20\n",
            "219/219 [==============================] - 3s 12ms/step - loss: 0.1066 - accuracy: 0.9723 - val_loss: 0.3632 - val_accuracy: 0.9053\n",
            "Epoch 6/20\n",
            "219/219 [==============================] - 2s 11ms/step - loss: 0.0848 - accuracy: 0.9757 - val_loss: 0.2908 - val_accuracy: 0.9360\n",
            "Epoch 7/20\n",
            "219/219 [==============================] - 3s 12ms/step - loss: 0.0691 - accuracy: 0.9790 - val_loss: 0.3226 - val_accuracy: 0.9290\n",
            "Epoch 8/20\n",
            "219/219 [==============================] - 3s 12ms/step - loss: 0.0398 - accuracy: 0.9886 - val_loss: 0.2908 - val_accuracy: 0.9530\n",
            "Epoch 9/20\n",
            "219/219 [==============================] - 2s 11ms/step - loss: 0.0287 - accuracy: 0.9921 - val_loss: 0.2929 - val_accuracy: 0.9473\n",
            "Epoch 10/20\n",
            "219/219 [==============================] - 2s 11ms/step - loss: 0.0250 - accuracy: 0.9940 - val_loss: 0.3016 - val_accuracy: 0.9473\n",
            "Epoch 11/20\n",
            "219/219 [==============================] - 3s 12ms/step - loss: 0.0223 - accuracy: 0.9934 - val_loss: 0.3288 - val_accuracy: 0.9440\n",
            "Epoch 12/20\n",
            "219/219 [==============================] - 3s 12ms/step - loss: 0.0179 - accuracy: 0.9959 - val_loss: 0.3470 - val_accuracy: 0.9537\n",
            "Epoch 13/20\n",
            "219/219 [==============================] - 3s 12ms/step - loss: 0.0371 - accuracy: 0.9899 - val_loss: 0.3939 - val_accuracy: 0.9377\n",
            "Epoch 14/20\n",
            "219/219 [==============================] - 2s 11ms/step - loss: 0.0686 - accuracy: 0.9796 - val_loss: 0.5605 - val_accuracy: 0.9117\n",
            "Epoch 15/20\n",
            "219/219 [==============================] - 3s 12ms/step - loss: 0.0530 - accuracy: 0.9857 - val_loss: 0.5776 - val_accuracy: 0.8950\n",
            "Epoch 16/20\n",
            "219/219 [==============================] - 2s 11ms/step - loss: 0.0258 - accuracy: 0.9926 - val_loss: 0.4506 - val_accuracy: 0.9153\n",
            "Epoch 17/20\n",
            "219/219 [==============================] - 2s 11ms/step - loss: 0.0120 - accuracy: 0.9963 - val_loss: 0.3726 - val_accuracy: 0.9597\n",
            "Epoch 18/20\n",
            "219/219 [==============================] - 2s 11ms/step - loss: 0.0156 - accuracy: 0.9961 - val_loss: 0.3414 - val_accuracy: 0.9533\n",
            "Epoch 19/20\n",
            "219/219 [==============================] - 2s 11ms/step - loss: 0.0104 - accuracy: 0.9977 - val_loss: 0.3610 - val_accuracy: 0.9630\n",
            "Epoch 20/20\n",
            "219/219 [==============================] - 3s 12ms/step - loss: 0.0067 - accuracy: 0.9981 - val_loss: 0.3297 - val_accuracy: 0.9663\n"
          ]
        }
      ]
    },
    {
      "cell_type": "code",
      "source": [
        "model.save('model_cnn6.h5')\n"
      ],
      "metadata": {
        "id": "wenXIOV3IyQr"
      },
      "execution_count": 18,
      "outputs": []
    },
    {
      "cell_type": "code",
      "source": [
        "model = keras.models.load_model('model_cnn6.h5')\n",
        "evaluate('flatland_train.data', model)"
      ],
      "metadata": {
        "colab": {
          "base_uri": "https://localhost:8080/"
        },
        "id": "ywNk7vp6I58Y",
        "outputId": "19e708a4-5c70-4437-d040-cef2465cd063"
      },
      "execution_count": 10,
      "outputs": [
        {
          "output_type": "execute_result",
          "data": {
            "text/plain": [
              "0.9831"
            ]
          },
          "metadata": {},
          "execution_count": 10
        }
      ]
    },
    {
      "cell_type": "code",
      "source": [
        "pred = model.predict(X_test).argmax(axis=1)\n",
        "print('Accuracy on test set - {0:.02%}'.format((pred == y_test).mean()))"
      ],
      "metadata": {
        "colab": {
          "base_uri": "https://localhost:8080/"
        },
        "id": "zrXtp8soJRIi",
        "outputId": "02b5dac9-ab3e-4892-8329-b90a62111aa6"
      },
      "execution_count": 11,
      "outputs": [
        {
          "output_type": "stream",
          "name": "stdout",
          "text": [
            "Accuracy on test set - 95.40%\n"
          ]
        }
      ]
    },
    {
      "cell_type": "code",
      "source": [
        ""
      ],
      "metadata": {
        "id": "IFSfauKJvk3V"
      },
      "execution_count": null,
      "outputs": []
    }
  ]
}
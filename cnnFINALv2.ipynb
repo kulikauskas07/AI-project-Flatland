{
  "nbformat": 4,
  "nbformat_minor": 0,
  "metadata": {
    "colab": {
      "name": "cnnFINALv2.ipynb",
      "provenance": [],
      "collapsed_sections": []
    },
    "kernelspec": {
      "name": "python3",
      "display_name": "Python 3"
    },
    "language_info": {
      "name": "python"
    },
    "accelerator": "GPU"
  },
  "cells": [
    {
      "cell_type": "code",
      "source": [
        "import gzip\n",
        "import pickle\n",
        "import pandas as pd\n",
        "import matplotlib.pyplot as plt\n",
        "from tensorflow import keras\n",
        "import numpy as np\n",
        "from tensorflow.keras.layers import Dense, Input, Flatten, Conv2D, BatchNormalization, \\\n",
        "                                    Activation, Dropout, MaxPooling2D\n",
        "\n",
        "def evaluate(path, model):\n",
        "    X, y = pickle.load(gzip.open(path, 'rb'))\n",
        "    y[y != 0] -= 2\n",
        "    X = X / 255.\n",
        "    acc = np.mean(model(X).numpy().argmax(axis=1) == y)\n",
        "    return acc\n"
      ],
      "metadata": {
        "id": "muYAhdmRtKrp"
      },
      "execution_count": 3,
      "outputs": []
    },
    {
      "cell_type": "code",
      "source": [
        "path = 'flatland_train.data'\n",
        "X,y = pickle.load(gzip.open(path,'rb')) \n",
        "\n",
        "# data pre-proc\n",
        "y[y != 0] -= 2\n",
        "X = X / 255\n",
        "# X = X.reshape (X.shape[0],50,50,1) / 255."
      ],
      "metadata": {
        "id": "Zt_R_Vs8I-lL"
      },
      "execution_count": 21,
      "outputs": []
    },
    {
      "cell_type": "code",
      "source": [
        "from sklearn.model_selection import train_test_split\n",
        "\n",
        "X_train, X_test, y_train, y_test = train_test_split(X,y,test_size = 0.3,random_state = 42)"
      ],
      "metadata": {
        "id": "XW7G1rBFHFuC"
      },
      "execution_count": 22,
      "outputs": []
    },
    {
      "cell_type": "markdown",
      "source": [
        "DNN modelis"
      ],
      "metadata": {
        "id": "SWMvu0yAjvbl"
      }
    },
    {
      "cell_type": "code",
      "source": [
        "# model = keras.models.Sequential()\n",
        "# model.add(keras.layers.Flatten(input_shape=[50, 50]))\n",
        "# model.add(keras.layers.Dense(64, activation=\"relu\"))\n",
        "# model.add(keras.layers.Dense(32, activation=\"relu\"))\n",
        "# model.add(keras.layers.Dense(10, activation=\"softmax\"))\n",
        "# model.compile(loss=\"sparse_categorical_crossentropy\",\n",
        "#               optimizer=\"Adam\",\n",
        "#               metrics=[\"accuracy\"])\n",
        "# model.summary()"
      ],
      "metadata": {
        "id": "RQ6XZ_RJHb54"
      },
      "execution_count": null,
      "outputs": []
    },
    {
      "cell_type": "markdown",
      "source": [
        "**CNN modelis**\n",
        "\n",
        "Atlikome daug testinių modelių (kuriuos galima rasti mano github: Kulikauskas07) ir sudarėme CNN modelį, kuris tenkina geriausią tikslumą. Pastebėjome, jog geriausia yra naudoti konvoliucinius sluoksnius, Maxpooling'ą, kuris mažina sluoksnius ir padeda geriau treniruotis, taip pat pastebėjome, jog naudinga naudoti Dropout, kadangi jis atmeta \"per gerus (Outliers)\" neutronus bei keletą kitų sluoksnių. Optimizacijai naudojome \"Adams\" paketą, kuris yra žymiai efektyvesnis nei \"sgd\". Ir dar buvo svarbu \"early stopping\", todėl ėmėme 7-10 epoch."
      ],
      "metadata": {
        "id": "oEZ6ShyAjy-W"
      }
    },
    {
      "cell_type": "code",
      "source": [
        "model = keras.models.Sequential()\n",
        "model.add(keras.layers.Conv2D(32, kernel_size=(3, 3), activation='relu', input_shape=[50, 50, 1]))\n",
        "model.add(keras.layers.BatchNormalization(axis=-1)) \n",
        "model.add(keras.layers.MaxPooling2D(pool_size=(2, 2),strides=2))\n",
        "model.add(keras.layers.Conv2D(64, kernel_size=(3, 3), activation='relu'))\n",
        "model.add(keras.layers.BatchNormalization(axis=-1)) \n",
        "model.add(keras.layers.MaxPooling2D(pool_size=(2, 2),strides=2))\n",
        "model.add(keras.layers.Conv2D(128, kernel_size=(3, 3), activation='relu'))\n",
        "model.add(keras.layers.BatchNormalization(axis=-1)) \n",
        "model.add(keras.layers.MaxPooling2D(pool_size=(2, 2),strides=2))\n",
        "model.add(keras.layers.Conv2D(256, kernel_size=(3, 3), activation='relu'))\n",
        "model.add(keras.layers.BatchNormalization(axis=-1)) \n",
        "model.add(keras.layers.MaxPooling2D(pool_size=(2, 2),strides=2))\n",
        "model.add(Flatten())\n",
        "model.add(Dropout(0.5))\n",
        "\n",
        "model.add(keras.layers.Dense(60, activation=\"relu\"))\n",
        "model.add(keras.layers.Dense(56, activation=\"relu\"))\n",
        "\n",
        "model.add(keras.layers.Dense(12, activation='softmax'))\n",
        "model.compile(loss=\"sparse_categorical_crossentropy\",\n",
        "              optimizer=\"Adam\",\n",
        "              metrics=[\"accuracy\"])\n",
        "model.summary()"
      ],
      "metadata": {
        "colab": {
          "base_uri": "https://localhost:8080/"
        },
        "id": "FVEFXgWLO8xN",
        "outputId": "92dda599-cca3-4faf-8210-0a7a39c6f753"
      },
      "execution_count": 33,
      "outputs": [
        {
          "output_type": "stream",
          "name": "stdout",
          "text": [
            "Model: \"sequential_5\"\n",
            "_________________________________________________________________\n",
            " Layer (type)                Output Shape              Param #   \n",
            "=================================================================\n",
            " conv2d_20 (Conv2D)          (None, 48, 48, 32)        320       \n",
            "                                                                 \n",
            " batch_normalization_20 (Bat  (None, 48, 48, 32)       128       \n",
            " chNormalization)                                                \n",
            "                                                                 \n",
            " max_pooling2d_20 (MaxPoolin  (None, 24, 24, 32)       0         \n",
            " g2D)                                                            \n",
            "                                                                 \n",
            " conv2d_21 (Conv2D)          (None, 22, 22, 64)        18496     \n",
            "                                                                 \n",
            " batch_normalization_21 (Bat  (None, 22, 22, 64)       256       \n",
            " chNormalization)                                                \n",
            "                                                                 \n",
            " max_pooling2d_21 (MaxPoolin  (None, 11, 11, 64)       0         \n",
            " g2D)                                                            \n",
            "                                                                 \n",
            " conv2d_22 (Conv2D)          (None, 9, 9, 128)         73856     \n",
            "                                                                 \n",
            " batch_normalization_22 (Bat  (None, 9, 9, 128)        512       \n",
            " chNormalization)                                                \n",
            "                                                                 \n",
            " max_pooling2d_22 (MaxPoolin  (None, 4, 4, 128)        0         \n",
            " g2D)                                                            \n",
            "                                                                 \n",
            " conv2d_23 (Conv2D)          (None, 2, 2, 256)         295168    \n",
            "                                                                 \n",
            " batch_normalization_23 (Bat  (None, 2, 2, 256)        1024      \n",
            " chNormalization)                                                \n",
            "                                                                 \n",
            " max_pooling2d_23 (MaxPoolin  (None, 1, 1, 256)        0         \n",
            " g2D)                                                            \n",
            "                                                                 \n",
            " flatten_5 (Flatten)         (None, 256)               0         \n",
            "                                                                 \n",
            " dropout_5 (Dropout)         (None, 256)               0         \n",
            "                                                                 \n",
            " dense_15 (Dense)            (None, 60)                15420     \n",
            "                                                                 \n",
            " dense_16 (Dense)            (None, 56)                3416      \n",
            "                                                                 \n",
            " dense_17 (Dense)            (None, 12)                684       \n",
            "                                                                 \n",
            "=================================================================\n",
            "Total params: 409,280\n",
            "Trainable params: 408,320\n",
            "Non-trainable params: 960\n",
            "_________________________________________________________________\n"
          ]
        }
      ]
    },
    {
      "cell_type": "code",
      "source": [
        "loss = model.fit(X_train, y_train, epochs=7,validation_data=[X_test,y_test])\n"
      ],
      "metadata": {
        "colab": {
          "base_uri": "https://localhost:8080/"
        },
        "id": "gR1uqmh2Ilgb",
        "outputId": "2fd597f1-5dc3-4f35-f69c-f538bd3d68de"
      },
      "execution_count": 34,
      "outputs": [
        {
          "output_type": "stream",
          "name": "stdout",
          "text": [
            "Epoch 1/7\n",
            "219/219 [==============================] - 7s 22ms/step - loss: 1.0529 - accuracy: 0.5907 - val_loss: 2.9185 - val_accuracy: 0.2110\n",
            "Epoch 2/7\n",
            "219/219 [==============================] - 4s 18ms/step - loss: 0.4284 - accuracy: 0.8590 - val_loss: 3.2668 - val_accuracy: 0.2770\n",
            "Epoch 3/7\n",
            "219/219 [==============================] - 4s 18ms/step - loss: 0.2472 - accuracy: 0.9379 - val_loss: 0.5947 - val_accuracy: 0.7657\n",
            "Epoch 4/7\n",
            "219/219 [==============================] - 4s 18ms/step - loss: 0.1809 - accuracy: 0.9613 - val_loss: 0.1646 - val_accuracy: 0.9707\n",
            "Epoch 5/7\n",
            "219/219 [==============================] - 4s 18ms/step - loss: 0.1592 - accuracy: 0.9650 - val_loss: 0.1502 - val_accuracy: 0.9803\n",
            "Epoch 6/7\n",
            "219/219 [==============================] - 4s 18ms/step - loss: 0.1287 - accuracy: 0.9750 - val_loss: 0.1455 - val_accuracy: 0.9780\n",
            "Epoch 7/7\n",
            "219/219 [==============================] - 4s 18ms/step - loss: 0.1258 - accuracy: 0.9730 - val_loss: 0.1522 - val_accuracy: 0.9810\n"
          ]
        }
      ]
    },
    {
      "cell_type": "code",
      "source": [
        "pd.DataFrame(loss.history).plot()\n"
      ],
      "metadata": {
        "colab": {
          "base_uri": "https://localhost:8080/",
          "height": 282
        },
        "id": "bIFDF0XOwFe_",
        "outputId": "b295157c-6cab-4a6c-d584-7d2aac6dfb09"
      },
      "execution_count": 35,
      "outputs": [
        {
          "output_type": "execute_result",
          "data": {
            "text/plain": [
              "<matplotlib.axes._subplots.AxesSubplot at 0x7f1c80489f90>"
            ]
          },
          "metadata": {},
          "execution_count": 35
        },
        {
          "output_type": "display_data",
          "data": {
            "image/png": "[encoded data removed]",
            "text/plain": [
              "<Figure size 432x288 with 1 Axes>"
            ]
          },
          "metadata": {
            "needs_background": "light"
          }
        }
      ]
    },
    {
      "cell_type": "code",
      "source": [
        "model.save('model_cnnFINALv2.h5')\n"
      ],
      "metadata": {
        "id": "VXGX5PuexrVo"
      },
      "execution_count": 36,
      "outputs": []
    },
    {
      "cell_type": "code",
      "source": [
        "model = keras.models.load_model('model_cnnFINALv2.h5')\n",
        "evaluate('flatland_train.data', model)"
      ],
      "metadata": {
        "colab": {
          "base_uri": "https://localhost:8080/"
        },
        "id": "ywNk7vp6I58Y",
        "outputId": "8fcf4a0a-4882-4287-eb1b-7d2dfb0d326f"
      },
      "execution_count": 37,
      "outputs": [
        {
          "output_type": "execute_result",
          "data": {
            "text/plain": [
              "0.9841"
            ]
          },
          "metadata": {},
          "execution_count": 37
        }
      ]
    },
    {
      "cell_type": "code",
      "source": [
        "pred_ = model.predict(X_test).argmax(axis=1)\n",
        "print('Accuracy on test set - {0:.02%}'.format((pred_ == y_test).mean()))"
      ],
      "metadata": {
        "colab": {
          "base_uri": "https://localhost:8080/"
        },
        "id": "zrXtp8soJRIi",
        "outputId": "20ecaff2-829f-4cdb-ef8a-f681eb315d44"
      },
      "execution_count": 38,
      "outputs": [
        {
          "output_type": "stream",
          "name": "stdout",
          "text": [
            "Accuracy on test set - 98.10%\n"
          ]
        }
      ]
    },
    {
      "cell_type": "markdown",
      "source": [
        "Gauti rezultatai įkelti į sistemą\n",
        "\n",
        "*Train set accuracy 98.41% Test set (simple) accuracy 99.80% Test set (adv.) accuracy 81.46%* "
      ],
      "metadata": {
        "id": "K3sBCKQAW7n6"
      }
    },
    {
      "cell_type": "markdown",
      "source": [
        "Duomenų atvaizdavimas"
      ],
      "metadata": {
        "id": "BcL0MeQUWXZg"
      }
    },
    {
      "cell_type": "code",
      "source": [
        "pip install matplotlib"
      ],
      "metadata": {
        "id": "K0byfaWg74P1"
      },
      "execution_count": null,
      "outputs": []
    },
    {
      "cell_type": "code",
      "source": [
        "plt.imshow(X_test[0],cmap='gray',vmin=0)"
      ],
      "metadata": {
        "colab": {
          "base_uri": "https://localhost:8080/",
          "height": 284
        },
        "id": "9YcFNGY0UJsS",
        "outputId": "dd8911de-c90d-40af-c887-5edb80898bab"
      },
      "execution_count": 40,
      "outputs": [
        {
          "output_type": "execute_result",
          "data": {
            "text/plain": [
              "<matplotlib.image.AxesImage at 0x7f1c80315650>"
            ]
          },
          "metadata": {},
          "execution_count": 40
        },
        {
          "output_type": "display_data",
          "data": {
            "image/png": "[encoded data removed]",
            "text/plain": [
              "<Figure size 432x288 with 1 Axes>"
            ]
          },
          "metadata": {
            "needs_background": "light"
          }
        }
      ]
    },
    {
      "cell_type": "code",
      "source": [
        "plt.figure(figsize=(10, 10))\n",
        "for i in range(10):\n",
        "        plt.subplot(10, 10, 10 + i + 1)\n",
        "        plt.imshow(X_test[i], cmap='gray')\n",
        "        plt.axis('off')\n",
        "plt.show()"
      ],
      "metadata": {
        "colab": {
          "base_uri": "https://localhost:8080/",
          "height": 77
        },
        "id": "yJ6sTN6iUNvf",
        "outputId": "9b285767-953c-46a5-bf90-0850d844038b"
      },
      "execution_count": 41,
      "outputs": [
        {
          "output_type": "display_data",
          "data": {
            "image/png": "[encoded data removed]",
            "text/plain": [
              "<Figure size 720x720 with 10 Axes>"
            ]
          },
          "metadata": {
            "needs_background": "light"
          }
        }
      ]
    },
    {
      "cell_type": "code",
      "source": [
        "for i in range(5):\n",
        "    idx= np.where(y_train == i)[0][0]\n",
        "    plt.subplot(2,5,i+1)\n",
        "    plt.imshow(X_train[idx],cmap='gray')\n",
        "    plt.title(i)\n",
        "    plt.axis('off')\n",
        "plt.show() "
      ],
      "metadata": {
        "colab": {
          "base_uri": "https://localhost:8080/",
          "height": 105
        },
        "id": "QxXUNnfJUP-k",
        "outputId": "c3935233-4c37-46fe-f4eb-fa1c788cb542"
      },
      "execution_count": 42,
      "outputs": [
        {
          "output_type": "display_data",
          "data": {
            "image/png": "[encoded data removed]",
            "text/plain": [
              "<Figure size 432x288 with 5 Axes>"
            ]
          },
          "metadata": {
            "needs_background": "light"
          }
        }
      ]
    },
    {
      "cell_type": "code",
      "source": [
        ""
      ],
      "metadata": {
        "id": "MPM9Rq9WVB-S"
      },
      "execution_count": null,
      "outputs": []
    }
  ]
}
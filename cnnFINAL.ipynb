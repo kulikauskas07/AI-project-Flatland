{
  "nbformat": 4,
  "nbformat_minor": 0,
  "metadata": {
    "colab": {
      "name": "cnnFINAL.ipynb",
      "provenance": [],
      "collapsed_sections": []
    },
    "kernelspec": {
      "name": "python3",
      "display_name": "Python 3"
    },
    "language_info": {
      "name": "python"
    },
    "accelerator": "GPU"
  },
  "cells": [
    {
      "cell_type": "code",
      "source": [
        "import gzip\n",
        "import pickle\n",
        "import pandas as pd\n",
        "import matplotlib.pyplot as plt\n",
        "from tensorflow import keras\n",
        "import numpy as np\n",
        "from tensorflow.keras.layers import Dense, Input, Flatten, Conv2D, BatchNormalization, \\\n",
        "                                    Activation, Dropout, MaxPooling2D\n",
        "\n",
        "def evaluate(path, model):\n",
        "    X, y = pickle.load(gzip.open(path, 'rb'))\n",
        "    y[y != 0] -= 2\n",
        "    X = X / 255.\n",
        "    acc = np.mean(model(X).numpy().argmax(axis=1) == y)\n",
        "    return acc\n"
      ],
      "metadata": {
        "id": "muYAhdmRtKrp"
      },
      "execution_count": 1,
      "outputs": []
    },
    {
      "cell_type": "code",
      "source": [
        "path = 'flatland_train.data'\n",
        "X,y = pickle.load(gzip.open(path,'rb')) \n",
        "\n",
        "# data pre-proc\n",
        "y[y != 0] -= 2\n",
        "X = X.reshape (X.shape[0],50,50,1) / 255."
      ],
      "metadata": {
        "id": "Zt_R_Vs8I-lL"
      },
      "execution_count": 2,
      "outputs": []
    },
    {
      "cell_type": "code",
      "source": [
        "from sklearn.model_selection import train_test_split\n",
        "\n",
        "X_train, X_test, y_train, y_test = train_test_split(X,y,test_size = 0.3,random_state = 42)"
      ],
      "metadata": {
        "id": "XW7G1rBFHFuC"
      },
      "execution_count": 3,
      "outputs": []
    },
    {
      "cell_type": "markdown",
      "source": [
        "DNN modelis"
      ],
      "metadata": {
        "id": "SWMvu0yAjvbl"
      }
    },
    {
      "cell_type": "code",
      "source": [
        "# model = keras.models.Sequential()\n",
        "# model.add(keras.layers.Flatten(input_shape=[50, 50]))\n",
        "# model.add(keras.layers.Dense(64, activation=\"relu\"))\n",
        "# model.add(keras.layers.Dense(32, activation=\"relu\"))\n",
        "# model.add(keras.layers.Dense(10, activation=\"softmax\"))\n",
        "# model.compile(loss=\"sparse_categorical_crossentropy\",\n",
        "#               optimizer=\"Adam\",\n",
        "#               metrics=[\"accuracy\"])\n",
        "# model.summary()"
      ],
      "metadata": {
        "id": "RQ6XZ_RJHb54"
      },
      "execution_count": 4,
      "outputs": []
    },
    {
      "cell_type": "markdown",
      "source": [
        "**CNN modelis**\n",
        "\n",
        "Atlikome daug testinių modelių (kuriuos galima rasti mano github: Kulikauskas07) ir sudarėme CNN modelį, kuris tenkina geriausią tikslumą. Pastebėjome, jog geriausia yra naudoti konvoliucinius sluoksnius, Maxpooling'ą, kuris mažina sluoksnius ir padeda geriau treniruotis, taip pat pastebėjome, jog naudinga naudoti Dropout, kadangi jis atmeta \"per gerus (Outliers)\" neutronus bei keletą kitų sluoksnių. Optimizacijai naudojome \"Adams\" paketą, kuris yra žymiai efektyvesnis nei \"sgd\". Ir dar buvo svarbu \"early stopping\", todėl ėmėme 7-10 epoch."
      ],
      "metadata": {
        "id": "oEZ6ShyAjy-W"
      }
    },
    {
      "cell_type": "code",
      "source": [
        "model = keras.models.Sequential()\n",
        "model.add(keras.layers.Conv2D(32, kernel_size=(3, 3), activation='relu', input_shape=[50, 50, 1]))\n",
        "model.add(keras.layers.BatchNormalization(axis=-1)) \n",
        "model.add(keras.layers.MaxPooling2D(pool_size=(2, 2),strides=2))\n",
        "model.add(keras.layers.Conv2D(64, kernel_size=(3, 3), activation='relu'))\n",
        "model.add(keras.layers.BatchNormalization(axis=-1)) \n",
        "model.add(keras.layers.MaxPooling2D(pool_size=(2, 2),strides=2))\n",
        "model.add(keras.layers.Conv2D(128, kernel_size=(3, 3), activation='relu'))\n",
        "model.add(keras.layers.BatchNormalization(axis=-1)) \n",
        "model.add(keras.layers.MaxPooling2D(pool_size=(2, 2),strides=2))\n",
        "model.add(keras.layers.Conv2D(256, kernel_size=(3, 3), activation='relu'))\n",
        "model.add(keras.layers.BatchNormalization(axis=-1)) \n",
        "model.add(keras.layers.MaxPooling2D(pool_size=(2, 2),strides=2))\n",
        "model.add(Flatten())\n",
        "model.add(Dropout(0.5))\n",
        "\n",
        "model.add(keras.layers.Dense(60, activation=\"relu\"))\n",
        "model.add(keras.layers.Dense(56, activation=\"relu\"))\n",
        "\n",
        "model.add(keras.layers.Dense(12, activation='softmax'))\n",
        "model.compile(loss=\"sparse_categorical_crossentropy\",\n",
        "              optimizer=\"Adam\",\n",
        "              metrics=[\"accuracy\"])\n",
        "model.summary()"
      ],
      "metadata": {
        "colab": {
          "base_uri": "https://localhost:8080/"
        },
        "id": "FVEFXgWLO8xN",
        "outputId": "d1fcc1fd-5c38-42ad-dcbf-bd30b5b3040d"
      },
      "execution_count": 16,
      "outputs": [
        {
          "output_type": "stream",
          "name": "stdout",
          "text": [
            "Model: \"sequential_4\"\n",
            "_________________________________________________________________\n",
            " Layer (type)                Output Shape              Param #   \n",
            "=================================================================\n",
            " conv2d_16 (Conv2D)          (None, 48, 48, 32)        320       \n",
            "                                                                 \n",
            " batch_normalization_16 (Bat  (None, 48, 48, 32)       128       \n",
            " chNormalization)                                                \n",
            "                                                                 \n",
            " max_pooling2d_16 (MaxPoolin  (None, 24, 24, 32)       0         \n",
            " g2D)                                                            \n",
            "                                                                 \n",
            " conv2d_17 (Conv2D)          (None, 22, 22, 64)        18496     \n",
            "                                                                 \n",
            " batch_normalization_17 (Bat  (None, 22, 22, 64)       256       \n",
            " chNormalization)                                                \n",
            "                                                                 \n",
            " max_pooling2d_17 (MaxPoolin  (None, 11, 11, 64)       0         \n",
            " g2D)                                                            \n",
            "                                                                 \n",
            " conv2d_18 (Conv2D)          (None, 9, 9, 128)         73856     \n",
            "                                                                 \n",
            " batch_normalization_18 (Bat  (None, 9, 9, 128)        512       \n",
            " chNormalization)                                                \n",
            "                                                                 \n",
            " max_pooling2d_18 (MaxPoolin  (None, 4, 4, 128)        0         \n",
            " g2D)                                                            \n",
            "                                                                 \n",
            " conv2d_19 (Conv2D)          (None, 2, 2, 256)         295168    \n",
            "                                                                 \n",
            " batch_normalization_19 (Bat  (None, 2, 2, 256)        1024      \n",
            " chNormalization)                                                \n",
            "                                                                 \n",
            " max_pooling2d_19 (MaxPoolin  (None, 1, 1, 256)        0         \n",
            " g2D)                                                            \n",
            "                                                                 \n",
            " flatten_4 (Flatten)         (None, 256)               0         \n",
            "                                                                 \n",
            " dropout_4 (Dropout)         (None, 256)               0         \n",
            "                                                                 \n",
            " dense_12 (Dense)            (None, 60)                15420     \n",
            "                                                                 \n",
            " dense_13 (Dense)            (None, 56)                3416      \n",
            "                                                                 \n",
            " dense_14 (Dense)            (None, 12)                684       \n",
            "                                                                 \n",
            "=================================================================\n",
            "Total params: 409,280\n",
            "Trainable params: 408,320\n",
            "Non-trainable params: 960\n",
            "_________________________________________________________________\n"
          ]
        }
      ]
    },
    {
      "cell_type": "code",
      "source": [
        "loss = model.fit(X_train, y_train, epochs=7,validation_data=[X_test,y_test])\n"
      ],
      "metadata": {
        "colab": {
          "base_uri": "https://localhost:8080/"
        },
        "id": "gR1uqmh2Ilgb",
        "outputId": "141c6114-9bbc-4849-9a0a-2410ca48de90"
      },
      "execution_count": 17,
      "outputs": [
        {
          "output_type": "stream",
          "name": "stdout",
          "text": [
            "Epoch 1/7\n",
            "219/219 [==============================] - 5s 17ms/step - loss: 1.1927 - accuracy: 0.5476 - val_loss: 4.7931 - val_accuracy: 0.1520\n",
            "Epoch 2/7\n",
            "219/219 [==============================] - 3s 15ms/step - loss: 0.4358 - accuracy: 0.8539 - val_loss: 3.9996 - val_accuracy: 0.2100\n",
            "Epoch 3/7\n",
            "219/219 [==============================] - 3s 15ms/step - loss: 0.2649 - accuracy: 0.9276 - val_loss: 0.3673 - val_accuracy: 0.8720\n",
            "Epoch 4/7\n",
            "219/219 [==============================] - 3s 15ms/step - loss: 0.2106 - accuracy: 0.9469 - val_loss: 0.2536 - val_accuracy: 0.9270\n",
            "Epoch 5/7\n",
            "219/219 [==============================] - 3s 15ms/step - loss: 0.1628 - accuracy: 0.9667 - val_loss: 0.2208 - val_accuracy: 0.9473\n",
            "Epoch 6/7\n",
            "219/219 [==============================] - 3s 15ms/step - loss: 0.1363 - accuracy: 0.9720 - val_loss: 0.1694 - val_accuracy: 0.9720\n",
            "Epoch 7/7\n",
            "219/219 [==============================] - 3s 15ms/step - loss: 0.1325 - accuracy: 0.9724 - val_loss: 0.1594 - val_accuracy: 0.9780\n"
          ]
        }
      ]
    },
    {
      "cell_type": "code",
      "source": [
        "pd.DataFrame(loss.history).plot()\n"
      ],
      "metadata": {
        "colab": {
          "base_uri": "https://localhost:8080/",
          "height": 286
        },
        "id": "bIFDF0XOwFe_",
        "outputId": "a20772ff-24a6-4ed3-b878-dd0fbc26d804"
      },
      "execution_count": 18,
      "outputs": [
        {
          "output_type": "execute_result",
          "data": {
            "text/plain": [
              "<matplotlib.axes._subplots.AxesSubplot at 0x7f6cfe2c0dd0>"
            ]
          },
          "metadata": {},
          "execution_count": 18
        },
        {
          "output_type": "display_data",
          "data": {
            "image/png": "[encoded data removed]",
            "text/plain": [
              "<Figure size 432x288 with 1 Axes>"
            ]
          },
          "metadata": {
            "needs_background": "light"
          }
        }
      ]
    },
    {
      "cell_type": "code",
      "source": [
        "model.save('model_cnnFINAL.h5')\n"
      ],
      "metadata": {
        "id": "VXGX5PuexrVo"
      },
      "execution_count": 19,
      "outputs": []
    },
    {
      "cell_type": "code",
      "source": [
        "model = keras.models.load_model('model_cnnFINAL.h5')\n",
        "evaluate('flatland_train.data', model)"
      ],
      "metadata": {
        "colab": {
          "base_uri": "https://localhost:8080/"
        },
        "id": "ywNk7vp6I58Y",
        "outputId": "68f034b2-5c9c-4a5c-b418-0587f35301ea"
      },
      "execution_count": 20,
      "outputs": [
        {
          "output_type": "execute_result",
          "data": {
            "text/plain": [
              "0.9821"
            ]
          },
          "metadata": {},
          "execution_count": 20
        }
      ]
    },
    {
      "cell_type": "code",
      "source": [
        "pred_ = model.predict(X_test).argmax(axis=1)\n",
        "print('Accuracy on test set - {0:.02%}'.format((pred_ == y_test).mean()))"
      ],
      "metadata": {
        "colab": {
          "base_uri": "https://localhost:8080/"
        },
        "id": "zrXtp8soJRIi",
        "outputId": "d0a8c0f1-a2c0-4043-e332-29eb0a078091"
      },
      "execution_count": 21,
      "outputs": [
        {
          "output_type": "stream",
          "name": "stdout",
          "text": [
            "Accuracy on test set - 97.80%\n"
          ]
        }
      ]
    },
    {
      "cell_type": "code",
      "source": [
        ""
      ],
      "metadata": {
        "id": "K0byfaWg74P1"
      },
      "execution_count": null,
      "outputs": []
    }
  ]
}